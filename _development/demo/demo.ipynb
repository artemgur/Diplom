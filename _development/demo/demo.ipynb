{
 "cells": [
  {
   "cell_type": "markdown",
   "source": [
    "# Демонстрация инструмента последовательного снятия снимков агрегированных данных из потоковых данных"
   ],
   "metadata": {
    "collapsed": false
   }
  },
  {
   "cell_type": "markdown",
   "source": [
    "Импортируем необходимые библиотеки."
   ],
   "metadata": {
    "collapsed": false
   }
  },
  {
   "cell_type": "code",
   "execution_count": 1,
   "metadata": {
    "collapsed": true,
    "ExecuteTime": {
     "start_time": "2023-04-24T20:22:37.203428Z",
     "end_time": "2023-04-24T20:22:37.258550Z"
    }
   },
   "outputs": [],
   "source": [
    "import time\n",
    "\n",
    "import requests\n",
    "import IPython.display\n",
    "\n",
    "import constants\n",
    "from _development.tests.test_utilities import print_response, print_tables_side_by_side\n",
    "from _development.tests.subprocess_utilities import start_subprocess, terminate_shell_subprocess"
   ]
  },
  {
   "cell_type": "markdown",
   "source": [
    "Запустим генератор потоковых данных.\n",
    "\n",
    "Потоковые данные содержат 3 поля:\n",
    "- a: int\n",
    "- b: int\n",
    "- c: float\n",
    "\n",
    "Генератор потоковых данных работает по следующему алгоритму:\n",
    "1. Добавление 10 новых объектов, где:\n",
    "    - a – случайное целое число от 0 до 10\n",
    "    - b – случайное целое число от 0 до 20\n",
    "    - с – случайное число от 0 до 10\n",
    "2. Обновление 1 случайного объекта:\n",
    "    - a задается равным 1000\n",
    "    - b и c умножаются на 10\n",
    "3. Удаление 1 случайного объекта\n",
    "\n",
    "Данные изменения применяются к таблице базы данных PostgreSQL. Оттуда данные выгружаются в Apache Kafka инструментом CDC Debezium. Далее данные поступают в разработанный инструмент."
   ],
   "metadata": {
    "collapsed": false
   }
  },
  {
   "cell_type": "code",
   "execution_count": 2,
   "outputs": [],
   "source": [
    "stream_generator = start_subprocess('python stream_generator.py')"
   ],
   "metadata": {
    "collapsed": false,
    "ExecuteTime": {
     "start_time": "2023-04-24T20:22:37.259243Z",
     "end_time": "2023-04-24T20:22:37.281656Z"
    }
   }
  },
  {
   "cell_type": "markdown",
   "source": [
    "Запустим разработанный инструмент."
   ],
   "metadata": {
    "collapsed": false
   }
  },
  {
   "cell_type": "code",
   "execution_count": 3,
   "outputs": [],
   "source": [
    "main = start_subprocess('python ../../main.py')"
   ],
   "metadata": {
    "collapsed": false,
    "ExecuteTime": {
     "start_time": "2023-04-24T20:22:37.281656Z",
     "end_time": "2023-04-24T20:22:37.298328Z"
    }
   }
  },
  {
   "cell_type": "markdown",
   "source": [
    "Зададим имя топика Apache Kafka, откуда инструмент будет получать данные."
   ],
   "metadata": {
    "collapsed": false
   }
  },
  {
   "cell_type": "code",
   "execution_count": 4,
   "outputs": [],
   "source": [
    "topic_name = 'postgres_source.public.demo_table'"
   ],
   "metadata": {
    "collapsed": false,
    "ExecuteTime": {
     "start_time": "2023-04-24T20:22:37.299984Z",
     "end_time": "2023-04-24T20:22:37.302504Z"
    }
   }
  },
  {
   "cell_type": "markdown",
   "source": [
    "Подготовим JSON запроса подключения к источнику данных CREATE SOURCE."
   ],
   "metadata": {
    "collapsed": false
   }
  },
  {
   "cell_type": "code",
   "execution_count": 5,
   "outputs": [],
   "source": [
    "create_source = {'query_type': 'CREATE SOURCE',\n",
    "                 'name': 'demo_source', 'type': 'DebeziumSource',\n",
    "                 'parameters': {'kafka_topic_name': topic_name, 'group_id': None, 'auto_offset_reset': 'earliest',\n",
    "                                'bootstrap_servers': ['kafka:9092'], 'consumer_timeout_ms': 1000}}"
   ],
   "metadata": {
    "collapsed": false,
    "ExecuteTime": {
     "start_time": "2023-04-24T20:22:37.315663Z",
     "end_time": "2023-04-24T20:22:37.352050Z"
    }
   }
  },
  {
   "cell_type": "markdown",
   "source": [
    "Подготовим JSON запроса создания материализованного представления CREATE MATERIALIZED VIEW.\n",
    "\n"
   ],
   "metadata": {
    "collapsed": false
   }
  },
  {
   "cell_type": "code",
   "execution_count": 6,
   "outputs": [],
   "source": [
    "create_view = {'query_type': 'CREATE MATERIALIZED VIEW',\n",
    "               'name': 'demo_view', 'view_source_name': 'demo_source', 'groupby_columns': ['a'],\n",
    "               'parameters': {'extrapolation': True, 'extrapolation_method': 'linear'},\n",
    "               'aggregates': [{'function': 'Sum', 'column': 'c'}, {'function': 'Avg', 'column': 'c'},\n",
    "                              {'function': 'CountDistinctCBF', 'column': 'b', 'parameters': {'expected_element_count': 100, 'false_positive_probability': 0.01}}]}"
   ],
   "metadata": {
    "collapsed": false,
    "ExecuteTime": {
     "start_time": "2023-04-24T20:22:37.320195Z",
     "end_time": "2023-04-24T20:22:37.352050Z"
    }
   }
  },
  {
   "cell_type": "markdown",
   "source": [
    "Подготовим JSON запроса получения данных SELECT."
   ],
   "metadata": {
    "collapsed": false
   }
  },
  {
   "cell_type": "code",
   "execution_count": 7,
   "outputs": [],
   "source": [
    "select = {'query_type': 'SELECT', 'name': 'demo_view', 'orderby': [['a', 'DESC']], 'format': 'tabulate'}"
   ],
   "metadata": {
    "collapsed": false,
    "ExecuteTime": {
     "start_time": "2023-04-24T20:22:37.326060Z",
     "end_time": "2023-04-24T20:22:37.352050Z"
    }
   }
  },
  {
   "cell_type": "code",
   "execution_count": 8,
   "outputs": [],
   "source": [
    "select_extrapolated = {'query_type': 'SELECT EXTRAPOLATED', 'name': 'demo_view', 'orderby': [['a', 'DESC']], 'format': 'tabulate', 'extrapolation_offset': 0.1}"
   ],
   "metadata": {
    "collapsed": false,
    "ExecuteTime": {
     "start_time": "2023-04-24T20:22:37.331079Z",
     "end_time": "2023-04-24T20:22:37.352050Z"
    }
   }
  },
  {
   "cell_type": "code",
   "execution_count": 9,
   "outputs": [
    {
     "name": "stdout",
     "output_type": "stream",
     "text": [
      "200 OK\n"
     ]
    }
   ],
   "source": [
    "print_response(requests.post(f'http://127.0.0.1:{constants.SERVER_PORT}', json=create_source))"
   ],
   "metadata": {
    "collapsed": false,
    "ExecuteTime": {
     "start_time": "2023-04-24T20:22:37.348512Z",
     "end_time": "2023-04-24T20:22:39.014097Z"
    }
   }
  },
  {
   "cell_type": "code",
   "execution_count": 10,
   "outputs": [
    {
     "name": "stdout",
     "output_type": "stream",
     "text": [
      "200 OK\n"
     ]
    }
   ],
   "source": [
    "print_response(requests.post(f'http://127.0.0.1:{constants.SERVER_PORT}', json=create_view))"
   ],
   "metadata": {
    "collapsed": false,
    "ExecuteTime": {
     "start_time": "2023-04-24T20:22:39.016409Z",
     "end_time": "2023-04-24T20:22:40.741848Z"
    }
   }
  },
  {
   "cell_type": "code",
   "execution_count": 11,
   "outputs": [
    {
     "name": "stdout",
     "output_type": "stream",
     "text": [
      "SELECT                                                        SELECT EXTRAPOLATED                                      \n",
      "╭─────┬──────────┬──────────┬───────────────────────────╮     ╭─────┬──────────┬──────────┬───────────────────────────╮\n",
      "│   a │   sum(c) │   avg(c) │   count_distinct_c_b_f(b) │     │   a │   sum(c) │   avg(c) │   count_distinct_c_b_f(b) │\n",
      "├─────┼──────────┼──────────┼───────────────────────────┤     ├─────┼──────────┼──────────┼───────────────────────────┤\n",
      "│   5 │       17 │        1 │                   11.0016 │     │   5 │  17.0333 │        1 │                   11.0272 │\n",
      "│   4 │       49 │        1 │                   18.4776 │     │   4 │ 227.861  │        1 │                   18.4776 │\n",
      "│   3 │       49 │        1 │                   21.4524 │     │   3 │  86.9506 │        1 │                   46.7528 │\n",
      "│   2 │       61 │        1 │                   23.6417 │     │   2 │  61.0332 │        1 │                   23.6417 │\n",
      "│   1 │       55 │        1 │                   17.5002 │     │   1 │ 233.861  │        1 │                   17.5002 │\n",
      "│   0 │       19 │        1 │                   10.2297 │     │   0 │  19.0111 │        1 │                   10.2297 │\n",
      "╰─────┴──────────┴──────────┴───────────────────────────╯     ╰─────┴──────────┴──────────┴───────────────────────────╯\n"
     ]
    },
    {
     "ename": "KeyboardInterrupt",
     "evalue": "",
     "output_type": "error",
     "traceback": [
      "\u001B[1;31m---------------------------------------------------------------------------\u001B[0m",
      "\u001B[1;31mKeyboardInterrupt\u001B[0m                         Traceback (most recent call last)",
      "Cell \u001B[1;32mIn[11], line 5\u001B[0m\n\u001B[0;32m      3\u001B[0m select_extrapolated_response \u001B[38;5;241m=\u001B[39m requests\u001B[38;5;241m.\u001B[39mpost(\u001B[38;5;124mf\u001B[39m\u001B[38;5;124m'\u001B[39m\u001B[38;5;124mhttp://127.0.0.1:\u001B[39m\u001B[38;5;132;01m{\u001B[39;00mconstants\u001B[38;5;241m.\u001B[39mSERVER_PORT\u001B[38;5;132;01m}\u001B[39;00m\u001B[38;5;124m'\u001B[39m, json\u001B[38;5;241m=\u001B[39mselect_extrapolated)\u001B[38;5;241m.\u001B[39mcontent\u001B[38;5;241m.\u001B[39mdecode()\n\u001B[0;32m      4\u001B[0m print_tables_side_by_side(select_response, select_extrapolated_response, \u001B[38;5;124m'\u001B[39m\u001B[38;5;124mSELECT\u001B[39m\u001B[38;5;124m'\u001B[39m, \u001B[38;5;124m'\u001B[39m\u001B[38;5;124mSELECT EXTRAPOLATED\u001B[39m\u001B[38;5;124m'\u001B[39m)\n\u001B[1;32m----> 5\u001B[0m time\u001B[38;5;241m.\u001B[39msleep(\u001B[38;5;241m5\u001B[39m)\n\u001B[0;32m      6\u001B[0m IPython\u001B[38;5;241m.\u001B[39mdisplay\u001B[38;5;241m.\u001B[39mclear_output()\n",
      "\u001B[1;31mKeyboardInterrupt\u001B[0m: "
     ]
    }
   ],
   "source": [
    "while True:\n",
    "    select_response = requests.post(f'http://127.0.0.1:{constants.SERVER_PORT}', json=select).content.decode()\n",
    "    select_extrapolated_response = requests.post(f'http://127.0.0.1:{constants.SERVER_PORT}', json=select_extrapolated).content.decode()\n",
    "    print_tables_side_by_side(select_response, select_extrapolated_response, 'SELECT', 'SELECT EXTRAPOLATED')\n",
    "    time.sleep(5)\n",
    "    IPython.display.clear_output()"
   ],
   "metadata": {
    "collapsed": false
   }
  },
  {
   "cell_type": "code",
   "execution_count": null,
   "outputs": [],
   "source": [
    "terminate_shell_subprocess(main)"
   ],
   "metadata": {
    "collapsed": false,
    "ExecuteTime": {
     "start_time": "2023-04-24T20:21:53.713951Z",
     "end_time": "2023-04-24T20:21:53.732475Z"
    }
   }
  },
  {
   "cell_type": "code",
   "execution_count": null,
   "outputs": [],
   "source": [
    "terminate_shell_subprocess(stream_generator)"
   ],
   "metadata": {
    "collapsed": false,
    "ExecuteTime": {
     "start_time": "2023-04-24T20:21:54.854553Z",
     "end_time": "2023-04-24T20:21:54.880309Z"
    }
   }
  },
  {
   "cell_type": "code",
   "execution_count": null,
   "outputs": [],
   "source": [
    "import kafka_utilities\n",
    "\n",
    "kafka_utilities.delete_topic(topic_name)"
   ],
   "metadata": {
    "collapsed": false,
    "ExecuteTime": {
     "start_time": "2023-04-24T20:21:55.395353Z",
     "end_time": "2023-04-24T20:21:55.772595Z"
    }
   }
  }
 ],
 "metadata": {
  "kernelspec": {
   "display_name": "Python 3",
   "language": "python",
   "name": "python3"
  },
  "language_info": {
   "codemirror_mode": {
    "name": "ipython",
    "version": 2
   },
   "file_extension": ".py",
   "mimetype": "text/x-python",
   "name": "python",
   "nbconvert_exporter": "python",
   "pygments_lexer": "ipython2",
   "version": "2.7.6"
  }
 },
 "nbformat": 4,
 "nbformat_minor": 0
}
