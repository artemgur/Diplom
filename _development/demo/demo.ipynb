{
 "cells": [
  {
   "cell_type": "markdown",
   "source": [
    "# Демонстрация инструмента последовательного снятия снимков агрегированных данных из потоковых данных"
   ],
   "metadata": {
    "collapsed": false
   }
  },
  {
   "cell_type": "markdown",
   "source": [
    "Импортируем необходимые библиотеки."
   ],
   "metadata": {
    "collapsed": false
   }
  },
  {
   "cell_type": "code",
   "execution_count": 1,
   "metadata": {
    "collapsed": true,
    "ExecuteTime": {
     "start_time": "2023-04-25T16:58:15.046804Z",
     "end_time": "2023-04-25T16:58:15.100158Z"
    }
   },
   "outputs": [],
   "source": [
    "import time\n",
    "\n",
    "import requests\n",
    "import IPython.display\n",
    "\n",
    "import constants\n",
    "from _development.tests.test_utilities import print_response, print_tables_side_by_side\n",
    "from _development.tests.subprocess_utilities import start_subprocess, terminate_shell_subprocess"
   ]
  },
  {
   "cell_type": "markdown",
   "source": [
    "Запустим генератор потоковых данных.\n",
    "\n",
    "Генератор потоковых данных применяет изменения к таблице базы данных PostgreSQL. Оттуда данные выгружаются в Apache Kafka инструментом CDC Debezium. Далее данные поступают в разработанный инструмент с помощью коннектора DebeziumSource."
   ],
   "metadata": {
    "collapsed": false
   }
  },
  {
   "cell_type": "code",
   "execution_count": 2,
   "outputs": [],
   "source": [
    "stream_generator = start_subprocess('python stream_generator.py')"
   ],
   "metadata": {
    "collapsed": false,
    "ExecuteTime": {
     "start_time": "2023-04-25T16:58:15.101162Z",
     "end_time": "2023-04-25T16:58:15.123466Z"
    }
   }
  },
  {
   "cell_type": "markdown",
   "source": [
    "Запустим разработанный инструмент."
   ],
   "metadata": {
    "collapsed": false
   }
  },
  {
   "cell_type": "code",
   "execution_count": 3,
   "outputs": [],
   "source": [
    "main = start_subprocess('python ../../main.py')"
   ],
   "metadata": {
    "collapsed": false,
    "ExecuteTime": {
     "start_time": "2023-04-25T16:58:15.120464Z",
     "end_time": "2023-04-25T16:58:15.137934Z"
    }
   }
  },
  {
   "cell_type": "markdown",
   "source": [
    "Зададим имя топика Apache Kafka, откуда инструмент будет получать данные."
   ],
   "metadata": {
    "collapsed": false
   }
  },
  {
   "cell_type": "code",
   "execution_count": 4,
   "outputs": [],
   "source": [
    "topic_name = 'postgres_source.public.demo_table'"
   ],
   "metadata": {
    "collapsed": false,
    "ExecuteTime": {
     "start_time": "2023-04-25T16:58:15.138934Z",
     "end_time": "2023-04-25T16:58:15.142306Z"
    }
   }
  },
  {
   "cell_type": "markdown",
   "source": [
    "Подготовим JSON запроса подключения к источнику данных CREATE SOURCE."
   ],
   "metadata": {
    "collapsed": false
   }
  },
  {
   "cell_type": "code",
   "execution_count": 5,
   "outputs": [],
   "source": [
    "create_source = {'query_type': 'CREATE SOURCE',\n",
    "                 'name': 'demo_source', 'type': 'DebeziumSource',\n",
    "                 'parameters': {'kafka_topic_name': topic_name, 'group_id': None, 'auto_offset_reset': 'earliest',\n",
    "                                'bootstrap_servers': ['kafka:9092'], 'consumer_timeout_ms': 1000}}"
   ],
   "metadata": {
    "collapsed": false,
    "ExecuteTime": {
     "start_time": "2023-04-25T16:58:15.142306Z",
     "end_time": "2023-04-25T16:58:15.161936Z"
    }
   }
  },
  {
   "cell_type": "markdown",
   "source": [
    "Подготовим JSON запроса создания материализованного представления CREATE MATERIALIZED VIEW.\n",
    "\n"
   ],
   "metadata": {
    "collapsed": false
   }
  },
  {
   "cell_type": "code",
   "execution_count": 6,
   "outputs": [],
   "source": [
    "create_view = {'query_type': 'CREATE MATERIALIZED VIEW',\n",
    "               'name': 'demo_view', 'view_source_name': 'demo_source', 'groupby_columns': ['a'],\n",
    "               'parameters': {'extrapolation': True, 'extrapolation_method': 'linear'},\n",
    "               'aggregates': [{'function': 'Sum', 'column': 'c'}, {'function': 'Avg', 'column': 'c'},\n",
    "                              {'function': 'CountDistinctCBF', 'column': 'b', 'parameters': {'expected_element_count': 100, 'false_positive_probability': 0.01}}]}"
   ],
   "metadata": {
    "collapsed": false,
    "ExecuteTime": {
     "start_time": "2023-04-25T16:58:15.147737Z",
     "end_time": "2023-04-25T16:58:15.161936Z"
    }
   }
  },
  {
   "cell_type": "markdown",
   "source": [
    "Подготовим JSON запроса получения данных SELECT."
   ],
   "metadata": {
    "collapsed": false
   }
  },
  {
   "cell_type": "code",
   "execution_count": 7,
   "outputs": [],
   "source": [
    "select = {'query_type': 'SELECT', 'name': 'demo_view', 'orderby': [['a', 'DESC']], 'format': 'tabulate'}"
   ],
   "metadata": {
    "collapsed": false,
    "ExecuteTime": {
     "start_time": "2023-04-25T16:58:15.153912Z",
     "end_time": "2023-04-25T16:58:15.161936Z"
    }
   }
  },
  {
   "cell_type": "code",
   "execution_count": 8,
   "outputs": [],
   "source": [
    "select_extrapolated = {'query_type': 'SELECT FORECASTED', 'name': 'demo_view', 'orderby': [['a', 'DESC']], 'format': 'tabulate', 'extrapolation_offset': 0.5}"
   ],
   "metadata": {
    "collapsed": false,
    "ExecuteTime": {
     "start_time": "2023-04-25T16:58:15.158764Z",
     "end_time": "2023-04-25T16:58:15.161936Z"
    }
   }
  },
  {
   "cell_type": "code",
   "execution_count": 9,
   "outputs": [],
   "source": [
    "time.sleep(2)"
   ],
   "metadata": {
    "collapsed": false,
    "ExecuteTime": {
     "start_time": "2023-04-25T16:58:15.161936Z",
     "end_time": "2023-04-25T16:58:17.167992Z"
    }
   }
  },
  {
   "cell_type": "code",
   "execution_count": 10,
   "outputs": [
    {
     "name": "stdout",
     "output_type": "stream",
     "text": [
      "200 OK\n"
     ]
    }
   ],
   "source": [
    "print_response(requests.post(f'http://127.0.0.1:{constants.SERVER_PORT}', json=create_source))"
   ],
   "metadata": {
    "collapsed": false,
    "ExecuteTime": {
     "start_time": "2023-04-25T16:58:17.169993Z",
     "end_time": "2023-04-25T16:58:17.287988Z"
    }
   }
  },
  {
   "cell_type": "code",
   "execution_count": 11,
   "outputs": [
    {
     "name": "stdout",
     "output_type": "stream",
     "text": [
      "200 OK\n"
     ]
    }
   ],
   "source": [
    "print_response(requests.post(f'http://127.0.0.1:{constants.SERVER_PORT}', json=create_view))"
   ],
   "metadata": {
    "collapsed": false,
    "ExecuteTime": {
     "start_time": "2023-04-25T16:58:17.288983Z",
     "end_time": "2023-04-25T16:58:19.012196Z"
    }
   }
  },
  {
   "cell_type": "code",
   "execution_count": 12,
   "outputs": [
    {
     "name": "stdout",
     "output_type": "stream",
     "text": [
      "SELECT                                                        SELECT FORECASTED                                      \n",
      "╭─────┬──────────┬──────────┬───────────────────────────╮     ╭─────┬──────────┬──────────┬───────────────────────────╮\n",
      "│   a │   sum(c) │   avg(c) │   count_distinct_c_b_f(b) │     │   a │   sum(c) │   avg(c) │   count_distinct_c_b_f(b) │\n",
      "├─────┼──────────┼──────────┼───────────────────────────┤     ├─────┼──────────┼──────────┼───────────────────────────┤\n",
      "│   5 │  125.993 │  2.03215 │                   22.6269 │     │   5 │  126.166 │  2.02943 │                   22.6269 │\n",
      "│   4 │  141.199 │  2.2774  │                   22.4585 │     │   4 │  141.25  │  2.27203 │                   22.5981 │\n",
      "│   3 │  142.841 │  2.30388 │                   21.7869 │     │   3 │  143.589 │  2.30987 │                   21.7869 │\n",
      "│   2 │  159.683 │  2.57553 │                   21.2854 │     │   2 │  160.625 │  2.58396 │                   21.2854 │\n",
      "│   1 │  150.619 │  2.42935 │                   23.3026 │     │   1 │  150.683 │  2.42376 │                   23.3026 │\n",
      "│   0 │  131.301 │  2.11777 │                   22.4585 │     │   0 │  132.1   │  2.12508 │                   22.4585 │\n",
      "╰─────┴──────────┴──────────┴───────────────────────────╯     ╰─────┴──────────┴──────────┴───────────────────────────╯\n"
     ]
    },
    {
     "ename": "KeyboardInterrupt",
     "evalue": "",
     "output_type": "error",
     "traceback": [
      "\u001B[1;31m---------------------------------------------------------------------------\u001B[0m",
      "\u001B[1;31mKeyboardInterrupt\u001B[0m                         Traceback (most recent call last)",
      "Cell \u001B[1;32mIn[12], line 5\u001B[0m\n\u001B[0;32m      3\u001B[0m select_extrapolated_response \u001B[38;5;241m=\u001B[39m requests\u001B[38;5;241m.\u001B[39mpost(\u001B[38;5;124mf\u001B[39m\u001B[38;5;124m'\u001B[39m\u001B[38;5;124mhttp://127.0.0.1:\u001B[39m\u001B[38;5;132;01m{\u001B[39;00mconstants\u001B[38;5;241m.\u001B[39mSERVER_PORT\u001B[38;5;132;01m}\u001B[39;00m\u001B[38;5;124m'\u001B[39m, json\u001B[38;5;241m=\u001B[39mselect_extrapolated)\u001B[38;5;241m.\u001B[39mcontent\u001B[38;5;241m.\u001B[39mdecode()\n\u001B[0;32m      4\u001B[0m print_tables_side_by_side(select_response, select_extrapolated_response, \u001B[38;5;124m'\u001B[39m\u001B[38;5;124mSELECT\u001B[39m\u001B[38;5;124m'\u001B[39m, \u001B[38;5;124m'\u001B[39m\u001B[38;5;124mSELECT FORECASTED\u001B[39m\u001B[38;5;124m'\u001B[39m)\n\u001B[1;32m----> 5\u001B[0m time\u001B[38;5;241m.\u001B[39msleep(\u001B[38;5;241m5\u001B[39m)\n\u001B[0;32m      6\u001B[0m IPython\u001B[38;5;241m.\u001B[39mdisplay\u001B[38;5;241m.\u001B[39mclear_output()\n",
      "\u001B[1;31mKeyboardInterrupt\u001B[0m: "
     ]
    }
   ],
   "source": [
    "while True:\n",
    "    select_response = requests.post(f'http://127.0.0.1:{constants.SERVER_PORT}', json=select).content.decode()\n",
    "    select_extrapolated_response = requests.post(f'http://127.0.0.1:{constants.SERVER_PORT}', json=select_extrapolated).content.decode()\n",
    "    print_tables_side_by_side(select_response, select_extrapolated_response, 'SELECT', 'SELECT FORECASTED')\n",
    "    time.sleep(5)\n",
    "    IPython.display.clear_output()"
   ],
   "metadata": {
    "collapsed": false
   }
  },
  {
   "cell_type": "code",
   "execution_count": null,
   "outputs": [],
   "source": [
    "terminate_shell_subprocess(main)"
   ],
   "metadata": {
    "collapsed": false,
    "ExecuteTime": {
     "start_time": "2023-04-25T16:27:40.049454Z",
     "end_time": "2023-04-25T16:27:40.070412Z"
    }
   }
  },
  {
   "cell_type": "code",
   "execution_count": null,
   "outputs": [],
   "source": [
    "terminate_shell_subprocess(stream_generator)"
   ],
   "metadata": {
    "collapsed": false,
    "ExecuteTime": {
     "start_time": "2023-04-25T16:27:40.898862Z",
     "end_time": "2023-04-25T16:27:40.908120Z"
    }
   }
  },
  {
   "cell_type": "code",
   "execution_count": null,
   "outputs": [],
   "source": [
    "import kafka_utilities\n",
    "\n",
    "kafka_utilities.delete_topic(topic_name)"
   ],
   "metadata": {
    "collapsed": false,
    "ExecuteTime": {
     "start_time": "2023-04-25T16:27:41.630039Z",
     "end_time": "2023-04-25T16:27:42.045171Z"
    }
   }
  }
 ],
 "metadata": {
  "kernelspec": {
   "display_name": "Python 3",
   "language": "python",
   "name": "python3"
  },
  "language_info": {
   "codemirror_mode": {
    "name": "ipython",
    "version": 2
   },
   "file_extension": ".py",
   "mimetype": "text/x-python",
   "name": "python",
   "nbconvert_exporter": "python",
   "pygments_lexer": "ipython2",
   "version": "2.7.6"
  }
 },
 "nbformat": 4,
 "nbformat_minor": 0
}
