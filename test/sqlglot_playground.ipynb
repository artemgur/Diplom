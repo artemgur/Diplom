{
 "cells": [
  {
   "cell_type": "code",
   "execution_count": 71,
   "outputs": [],
   "source": [
    "import sqlglot.expressions as se"
   ],
   "metadata": {
    "collapsed": false
   }
  },
  {
   "cell_type": "code",
   "execution_count": 29,
   "outputs": [
    {
     "name": "stdout",
     "output_type": "stream",
     "text": [
      "The autoreload extension is already loaded. To reload it, use:\n",
      "  %reload_ext autoreload\n"
     ]
    }
   ],
   "source": [
    "%load_ext autoreload\n",
    "%autoreload 2"
   ],
   "metadata": {
    "collapsed": false
   }
  },
  {
   "cell_type": "code",
   "execution_count": 30,
   "outputs": [],
   "source": [
    "import sqlglot"
   ],
   "metadata": {
    "collapsed": false
   }
  },
  {
   "cell_type": "code",
   "execution_count": 69,
   "outputs": [],
   "source": [
    "sql = 'SELECT a, avg(b), sdfg(b), agsh(a, b) FROM mytable WHERE a > 10 AND a < 15 OR a > 1000 GROUP BY a ORDER BY a, avg(b)'"
   ],
   "metadata": {
    "collapsed": false
   }
  },
  {
   "cell_type": "code",
   "execution_count": 70,
   "outputs": [
    {
     "data": {
      "text/plain": "(SELECT expressions: \n  (COLUMN this: \n    (IDENTIFIER this: a, quoted: False)), \n  (AVG this: \n    (COLUMN this: \n      (IDENTIFIER this: b, quoted: False))), \n  (ANONYMOUS this: sdfg, expressions: \n    (COLUMN this: \n      (IDENTIFIER this: b, quoted: False))), \n  (ANONYMOUS this: agsh, expressions: \n    (COLUMN this: \n      (IDENTIFIER this: a, quoted: False)), \n    (COLUMN this: \n      (IDENTIFIER this: b, quoted: False))), from: \n  (FROM expressions: \n    (TABLE this: \n      (IDENTIFIER this: mytable, quoted: False))), where: \n  (WHERE this: \n    (OR this: \n      (AND this: \n        (GT this: \n          (COLUMN this: \n            (IDENTIFIER this: a, quoted: False)), expression: \n          (LITERAL this: 10, is_string: False)), expression: \n        (LT this: \n          (COLUMN this: \n            (IDENTIFIER this: a, quoted: False)), expression: \n          (LITERAL this: 15, is_string: False))), expression: \n      (GT this: \n        (COLUMN this: \n          (IDENTIFIER this: a, quoted: False)), expression: \n        (LITERAL this: 1000, is_string: False)))), group: \n  (GROUP expressions: \n    (COLUMN this: \n      (IDENTIFIER this: a, quoted: False))), order: \n  (ORDER expressions: \n    (ORDERED this: \n      (COLUMN this: \n        (IDENTIFIER this: a, quoted: False)), desc: False, nulls_first: False), \n    (ORDERED this: \n      (AVG this: \n        (COLUMN this: \n          (IDENTIFIER this: b, quoted: False))), desc: False, nulls_first: False)))"
     },
     "execution_count": 70,
     "metadata": {},
     "output_type": "execute_result"
    }
   ],
   "source": [
    "parsed = sqlglot.parse(sql, 'postgres')[0]  # sqlglot.parse(sql) returns list, every element is sql statement if I understand correctly\n",
    "parsed"
   ],
   "metadata": {
    "collapsed": false
   }
  },
  {
   "cell_type": "code",
   "execution_count": 78,
   "outputs": [
    {
     "data": {
      "text/plain": "[(COLUMN this: \n   (IDENTIFIER this: a, quoted: False))]"
     },
     "execution_count": 78,
     "metadata": {},
     "output_type": "execute_result"
    }
   ],
   "source": [
    "parsed.find(se.Group).expressions"
   ],
   "metadata": {
    "collapsed": false
   }
  },
  {
   "cell_type": "code",
   "execution_count": 75,
   "outputs": [
    {
     "data": {
      "text/plain": "[(COLUMN this: \n   (IDENTIFIER this: a, quoted: False)),\n (COLUMN this: \n   (IDENTIFIER this: b, quoted: False))]"
     },
     "execution_count": 75,
     "metadata": {},
     "output_type": "execute_result"
    }
   ],
   "source": [
    "list(parsed.find_all(se.Anonymous))[1].expressions"
   ],
   "metadata": {
    "collapsed": false
   }
  },
  {
   "cell_type": "code",
   "execution_count": 66,
   "outputs": [
    {
     "data": {
      "text/plain": "[(COLUMN this: \n   (IDENTIFIER this: a, quoted: False)),\n (AVG this: \n   (COLUMN this: \n     (IDENTIFIER this: b, quoted: False)))]"
     },
     "execution_count": 66,
     "metadata": {},
     "output_type": "execute_result"
    }
   ],
   "source": [
    "parsed.expressions"
   ],
   "metadata": {
    "collapsed": false
   }
  },
  {
   "cell_type": "code",
   "execution_count": 33,
   "outputs": [
    {
     "data": {
      "text/plain": "sqlglot.expressions.Select"
     },
     "execution_count": 33,
     "metadata": {},
     "output_type": "execute_result"
    }
   ],
   "source": [
    "type(parsed)"
   ],
   "metadata": {
    "collapsed": false
   }
  },
  {
   "cell_type": "code",
   "execution_count": 57,
   "outputs": [
    {
     "data": {
      "text/plain": "False"
     },
     "execution_count": 57,
     "metadata": {},
     "output_type": "execute_result"
    }
   ],
   "source": [
    "parsed.args['order'].find(sqlglot.expressions.Ordered).args['nulls_first']"
   ],
   "metadata": {
    "collapsed": false
   }
  },
  {
   "cell_type": "code",
   "execution_count": 34,
   "outputs": [
    {
     "data": {
      "text/plain": "(FROM expressions: \n  (TABLE this: \n    (IDENTIFIER this: mytable, quoted: False)))"
     },
     "execution_count": 34,
     "metadata": {},
     "output_type": "execute_result"
    }
   ],
   "source": [
    "parsed.args['from']"
   ],
   "metadata": {
    "collapsed": false
   }
  },
  {
   "cell_type": "code",
   "execution_count": 35,
   "outputs": [
    {
     "data": {
      "text/plain": "[(TABLE this: \n   (IDENTIFIER this: mytable, quoted: False))]"
     },
     "execution_count": 35,
     "metadata": {},
     "output_type": "execute_result"
    }
   ],
   "source": [
    "parsed.args['from'].expressions"
   ],
   "metadata": {
    "collapsed": false
   }
  },
  {
   "cell_type": "code",
   "execution_count": 36,
   "outputs": [
    {
     "data": {
      "text/plain": "'mytable'"
     },
     "execution_count": 36,
     "metadata": {},
     "output_type": "execute_result"
    }
   ],
   "source": [
    "parsed.args['from'].find(sqlglot.expressions.Identifier).this"
   ],
   "metadata": {
    "collapsed": false
   }
  },
  {
   "cell_type": "code",
   "execution_count": 37,
   "outputs": [
    {
     "name": "stdout",
     "output_type": "stream",
     "text": [
      "<class 'sqlglot.expressions.Column'>\n",
      "<class 'sqlglot.expressions.Avg'>\n"
     ]
    }
   ],
   "source": [
    "for x in parsed.expressions:\n",
    "    print(type(x))"
   ],
   "metadata": {
    "collapsed": false
   }
  },
  {
   "cell_type": "code",
   "execution_count": 38,
   "outputs": [
    {
     "data": {
      "text/plain": "(WHERE this: \n  (OR this: \n    (AND this: \n      (GT this: \n        (COLUMN this: \n          (IDENTIFIER this: a, quoted: False)), expression: \n        (LITERAL this: 10, is_string: False)), expression: \n      (LT this: \n        (COLUMN this: \n          (IDENTIFIER this: a, quoted: False)), expression: \n        (LITERAL this: 15, is_string: False))), expression: \n    (GT this: \n      (COLUMN this: \n        (IDENTIFIER this: a, quoted: False)), expression: \n      (LITERAL this: 1000, is_string: False))))"
     },
     "execution_count": 38,
     "metadata": {},
     "output_type": "execute_result"
    }
   ],
   "source": [
    "from sqlglot.expressions import Where\n",
    "\n",
    "where = parsed.find(Where)\n",
    "where"
   ],
   "metadata": {
    "collapsed": false
   }
  },
  {
   "cell_type": "code",
   "execution_count": 39,
   "outputs": [
    {
     "data": {
      "text/plain": "(WHERE this: \n  (OR this: \n    (AND this: \n      (GT this: \n        (COLUMN this: \n          (IDENTIFIER this: a, quoted: False)), expression: \n        (LITERAL this: 10, is_string: False)), expression: \n      (LT this: \n        (COLUMN this: \n          (IDENTIFIER this: a, quoted: False)), expression: \n        (LITERAL this: 15, is_string: False))), expression: \n    (GT this: \n      (COLUMN this: \n        (IDENTIFIER this: a, quoted: False)), expression: \n      (LITERAL this: 1000, is_string: False))))"
     },
     "execution_count": 39,
     "metadata": {},
     "output_type": "execute_result"
    }
   ],
   "source": [
    "where"
   ],
   "metadata": {
    "collapsed": false
   }
  },
  {
   "cell_type": "code",
   "execution_count": 40,
   "outputs": [
    {
     "data": {
      "text/plain": "(OR this: \n  (AND this: \n    (GT this: \n      (COLUMN this: \n        (IDENTIFIER this: a, quoted: False)), expression: \n      (LITERAL this: 10, is_string: False)), expression: \n    (LT this: \n      (COLUMN this: \n        (IDENTIFIER this: a, quoted: False)), expression: \n      (LITERAL this: 15, is_string: False))), expression: \n  (GT this: \n    (COLUMN this: \n      (IDENTIFIER this: a, quoted: False)), expression: \n    (LITERAL this: 1000, is_string: False)))"
     },
     "execution_count": 40,
     "metadata": {},
     "output_type": "execute_result"
    }
   ],
   "source": [
    "and_ = where.this\n",
    "and_"
   ],
   "metadata": {
    "collapsed": false
   }
  },
  {
   "cell_type": "code",
   "execution_count": 41,
   "outputs": [
    {
     "data": {
      "text/plain": "(OR this: \n  (AND this: \n    (GT this: \n      (COLUMN this: \n        (IDENTIFIER this: a, quoted: False)), expression: \n      (LITERAL this: 10, is_string: False)), expression: \n    (LT this: \n      (COLUMN this: \n        (IDENTIFIER this: a, quoted: False)), expression: \n      (LITERAL this: 15, is_string: False))), expression: \n  (GT this: \n    (COLUMN this: \n      (IDENTIFIER this: a, quoted: False)), expression: \n    (LITERAL this: 1000, is_string: False)))"
     },
     "execution_count": 41,
     "metadata": {},
     "output_type": "execute_result"
    }
   ],
   "source": [
    "and_"
   ],
   "metadata": {
    "collapsed": false
   }
  },
  {
   "cell_type": "code",
   "execution_count": 42,
   "outputs": [
    {
     "name": "stdout",
     "output_type": "stream",
     "text": [
      "hint None\n",
      "distinct None\n",
      "expressions [(COLUMN this: \n",
      "  (IDENTIFIER this: a, quoted: False)), (AVG this: \n",
      "  (COLUMN this: \n",
      "    (IDENTIFIER this: b, quoted: False)))]\n",
      "limit None\n",
      "from FROM mytable\n",
      "where WHERE a > 10 AND a < 15 OR a > 1000\n",
      "group GROUP BY a\n",
      "order ORDER BY a NULLS LAST\n"
     ]
    }
   ],
   "source": [
    "for k, v in parsed.args.items():\n",
    "    print(k, v)"
   ],
   "metadata": {
    "collapsed": false
   }
  },
  {
   "cell_type": "code",
   "execution_count": 43,
   "outputs": [
    {
     "name": "stdout",
     "output_type": "stream",
     "text": [
      "expressions a\n",
      "expressions AVG(b)\n",
      "from FROM mytable\n",
      "where WHERE a > 10 AND a < 15 OR a > 1000\n",
      "group GROUP BY a\n",
      "order ORDER BY a NULLS LAST\n"
     ]
    }
   ],
   "source": [
    "from sqlglot import Expression\n",
    "from sqlglot.helper import ensure_collection\n",
    "\n",
    "for k, v in parsed.args.items():\n",
    "    for node in ensure_collection(v):\n",
    "        if isinstance(node, Expression):\n",
    "            print(k, node)"
   ],
   "metadata": {
    "collapsed": false
   }
  },
  {
   "cell_type": "code",
   "execution_count": 44,
   "outputs": [
    {
     "name": "stdout",
     "output_type": "stream",
     "text": [
      "<class 'sqlglot.expressions.Or'>\n",
      "this a > 10 AND a < 15\n",
      "expression a > 1000\n"
     ]
    }
   ],
   "source": [
    "from sqlglot import Expression\n",
    "from sqlglot.helper import ensure_collection\n",
    "\n",
    "start_node = where.this\n",
    "print(type(start_node))\n",
    "for k, v in start_node.args.items():\n",
    "    for node in ensure_collection(v):\n",
    "        if isinstance(node, Expression):\n",
    "            print(k, node)"
   ],
   "metadata": {
    "collapsed": false
   }
  },
  {
   "cell_type": "code",
   "execution_count": 45,
   "outputs": [
    {
     "name": "stdout",
     "output_type": "stream",
     "text": [
      "a > 10 AND a < 15 OR a > 1000\n",
      "a > 10 AND a < 15\n",
      "a > 10\n",
      "a\n",
      "a\n",
      "10\n",
      "a < 15\n",
      "a\n",
      "a\n",
      "15\n",
      "a > 1000\n",
      "a\n",
      "a\n",
      "1000\n"
     ]
    }
   ],
   "source": [
    "#node: Expression\n",
    "for node in where.this.dfs():\n",
    "    print(node[0])\n"
   ],
   "metadata": {
    "collapsed": false
   }
  },
  {
   "cell_type": "code",
   "execution_count": 46,
   "outputs": [
    {
     "data": {
      "text/plain": "(WHERE this: \n  (OR this: \n    (AND this: \n      (GT this: \n        (COLUMN this: \n          (IDENTIFIER this: a, quoted: False)), expression: \n        (LITERAL this: 10, is_string: False)), expression: \n      (LT this: \n        (COLUMN this: \n          (IDENTIFIER this: a, quoted: False)), expression: \n        (LITERAL this: 15, is_string: False))), expression: \n    (GT this: \n      (COLUMN this: \n        (IDENTIFIER this: a, quoted: False)), expression: \n      (LITERAL this: 1000, is_string: False))))"
     },
     "execution_count": 46,
     "metadata": {},
     "output_type": "execute_result"
    }
   ],
   "source": [
    "where"
   ],
   "metadata": {
    "collapsed": false
   }
  },
  {
   "cell_type": "code",
   "execution_count": 47,
   "outputs": [
    {
     "name": "stdout",
     "output_type": "stream",
     "text": [
      "\n",
      "def _parse_where_simple_inner(a):\n",
      "    return a > 10 and a < 15 or a > 1000\n",
      "\n"
     ]
    },
    {
     "data": {
      "text/plain": "<function where_parser._parse_where_simple_inner(a)>"
     },
     "execution_count": 47,
     "metadata": {},
     "output_type": "execute_result"
    }
   ],
   "source": [
    "import where_parser\n",
    "\n",
    "where_func = where_parser.parse_where_simple(where.this)\n",
    "where_func"
   ],
   "metadata": {
    "collapsed": false
   }
  },
  {
   "cell_type": "code",
   "execution_count": 48,
   "outputs": [
    {
     "data": {
      "text/plain": "True"
     },
     "execution_count": 48,
     "metadata": {},
     "output_type": "execute_result"
    }
   ],
   "source": [
    "where_func(1210)"
   ],
   "metadata": {
    "collapsed": false
   }
  },
  {
   "cell_type": "code",
   "execution_count": 58,
   "outputs": [],
   "source": [
    "sql2 = 'SELECT 1'"
   ],
   "metadata": {
    "collapsed": false
   }
  },
  {
   "cell_type": "code",
   "execution_count": 59,
   "outputs": [
    {
     "data": {
      "text/plain": "(SELECT expressions: \n  (LITERAL this: 1, is_string: False))"
     },
     "execution_count": 59,
     "metadata": {},
     "output_type": "execute_result"
    }
   ],
   "source": [
    "parsed2 = sqlglot.parse(sql2, 'postgres')[0]\n",
    "parsed2"
   ],
   "metadata": {
    "collapsed": false
   }
  },
  {
   "cell_type": "code",
   "execution_count": 65,
   "outputs": [
    {
     "name": "stdout",
     "output_type": "stream",
     "text": [
      "None\n"
     ]
    }
   ],
   "source": [
    "print(parsed2.find(se.Where))"
   ],
   "metadata": {
    "collapsed": false
   }
  },
  {
   "cell_type": "code",
   "execution_count": null,
   "outputs": [],
   "source": [],
   "metadata": {
    "collapsed": false
   }
  }
 ],
 "metadata": {
  "kernelspec": {
   "display_name": "Python 3",
   "language": "python",
   "name": "python3"
  },
  "language_info": {
   "codemirror_mode": {
    "name": "ipython",
    "version": 2
   },
   "file_extension": ".py",
   "mimetype": "text/x-python",
   "name": "python",
   "nbconvert_exporter": "python",
   "pygments_lexer": "ipython2",
   "version": "2.7.6"
  }
 },
 "nbformat": 4,
 "nbformat_minor": 0
}
