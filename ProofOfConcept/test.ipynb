{
 "cells": [
  {
   "cell_type": "code",
   "execution_count": 2,
   "outputs": [],
   "source": [
    "import pandas as pd\n",
    "%load_ext autoreload\n",
    "%autoreload 2"
   ],
   "metadata": {
    "collapsed": false
   }
  },
  {
   "cell_type": "code",
   "execution_count": 3,
   "metadata": {
    "collapsed": true
   },
   "outputs": [
    {
     "name": "stdout",
     "output_type": "stream",
     "text": [
      "<pandas.core.groupby.generic.DataFrameGroupBy object at 0x0000020A2015B910>\n"
     ]
    }
   ],
   "source": [
    "from categorical import handle_categorical\n",
    "from test import CarData\n",
    "\n",
    "handle_categorical(CarData)"
   ]
  },
  {
   "cell_type": "code",
   "execution_count": 2,
   "outputs": [
    {
     "data": {
      "text/plain": "array(['a', 'q', 'd', 'f', 'h'], dtype='<U1')"
     },
     "execution_count": 2,
     "metadata": {},
     "output_type": "execute_result"
    }
   ],
   "source": [
    "import numpy as np\n",
    "\n",
    "categorical = np.array(['a','q','d','f','h'])\n",
    "categorical"
   ],
   "metadata": {
    "collapsed": false
   }
  },
  {
   "cell_type": "code",
   "execution_count": 4,
   "outputs": [
    {
     "data": {
      "text/plain": "array([[ 1.85742556e+00,  5.13325707e-01, -3.89329868e-01,\n         1.19695635e+00, -1.02563291e+00,  1.76179587e+00],\n       [ 8.76430996e-01, -2.64097823e+00, -6.42636829e-01,\n         1.02216038e-01,  1.02374516e+00,  2.50510669e-02],\n       [ 1.75647727e+00,  5.11059347e-01, -9.18374507e-01,\n         4.69223404e-01,  4.41983604e-01, -3.03372532e-01],\n       [ 3.03563956e-01,  1.07570761e+00, -8.88347946e-01,\n        -6.89423842e-01, -8.46319783e-01,  9.00803272e-01],\n       [-3.27067885e-02, -3.11384484e-01,  1.28634316e-03,\n        -3.31259532e+00,  3.60989062e-01, -3.28979144e-01]])"
     },
     "execution_count": 4,
     "metadata": {},
     "output_type": "execute_result"
    }
   ],
   "source": [
    "from generate_data import generate_random_matrix\n",
    "\n",
    "numerical = generate_random_matrix(5, 6)\n",
    "numerical"
   ],
   "metadata": {
    "collapsed": false
   }
  },
  {
   "cell_type": "code",
   "execution_count": 12,
   "outputs": [
    {
     "data": {
      "text/plain": "array([['1.8574255609454031', '0.5133257068786639',\n        '-0.38932986759186594', '1.1969563451113172',\n        '-1.0256329081200413', '1.7617958686681328', 'a'],\n       ['0.8764309964606758', '-2.640978225017582',\n        '-0.6426368286143691', '0.10221603840112992',\n        '1.0237451591989548', '0.02505106693456614', 'q'],\n       ['1.7564772733893732', '0.5110593467517603',\n        '-0.9183745072926455', '0.46922340389770434',\n        '0.4419836035599042', '-0.30337253220425825', 'd'],\n       ['0.30356395552727', '1.0757076129067635', '-0.888347946037606',\n        '-0.6894238423112529', '-0.8463197829875801',\n        '0.9008032715446121', 'f'],\n       ['-0.032706788466928156', '-0.31138448410369807',\n        '0.0012863431612798763', '-3.312595322362172',\n        '0.36098906235511197', '-0.32897914396351724', 'h']], dtype='<U32')"
     },
     "execution_count": 12,
     "metadata": {},
     "output_type": "execute_result"
    }
   ],
   "source": [
    "joined = np.column_stack((numerical, categorical))\n",
    "joined"
   ],
   "metadata": {
    "collapsed": false
   }
  },
  {
   "cell_type": "code",
   "execution_count": 20,
   "outputs": [
    {
     "name": "stdout",
     "output_type": "stream",
     "text": [
      "[['1.8574255609454031' '0.5133257068786639' '-0.38932986759186594'\n",
      "  '1.1969563451113172' '-1.0256329081200413' '1.7617958686681328' 'a']\n",
      " ['0.8764309964606758' '-2.640978225017582' '-0.6426368286143691'\n",
      "  '0.10221603840112992' '1.0237451591989548' '0.02505106693456614' 'q']\n",
      " ['1.7564772733893732' '0.5110593467517603' '-0.9183745072926455'\n",
      "  '0.46922340389770434' '0.4419836035599042' '-0.30337253220425825' 'd']\n",
      " ['0.30356395552727' '1.0757076129067635' '-0.888347946037606'\n",
      "  '-0.6894238423112529' '-0.8463197829875801' '0.9008032715446121' 'f']\n",
      " ['-0.032706788466928156' '-0.31138448410369807' '0.0012863431612798763'\n",
      "  '-3.312595322362172' '0.36098906235511197' '-0.32897914396351724' 'h']]\n"
     ]
    }
   ],
   "source": [
    "print(joined)"
   ],
   "metadata": {
    "collapsed": false
   }
  },
  {
   "cell_type": "code",
   "execution_count": 18,
   "outputs": [
    {
     "name": "stdout",
     "output_type": "stream",
     "text": [
      "<class 'pandas.core.frame.DataFrame'>\n",
      "RangeIndex: 5 entries, 0 to 4\n",
      "Data columns (total 7 columns):\n",
      " #   Column  Non-Null Count  Dtype \n",
      "---  ------  --------------  ----- \n",
      " 0   0       5 non-null      object\n",
      " 1   1       5 non-null      object\n",
      " 2   2       5 non-null      object\n",
      " 3   3       5 non-null      object\n",
      " 4   4       5 non-null      object\n",
      " 5   5       5 non-null      object\n",
      " 6   6       5 non-null      object\n",
      "dtypes: object(7)\n",
      "memory usage: 408.0+ bytes\n"
     ]
    }
   ],
   "source": [
    "pd.DataFrame(joined).info()"
   ],
   "metadata": {
    "collapsed": false
   }
  },
  {
   "cell_type": "code",
   "execution_count": null,
   "outputs": [],
   "source": [],
   "metadata": {
    "collapsed": false
   }
  }
 ],
 "metadata": {
  "kernelspec": {
   "display_name": "Python 3",
   "language": "python",
   "name": "python3"
  },
  "language_info": {
   "codemirror_mode": {
    "name": "ipython",
    "version": 2
   },
   "file_extension": ".py",
   "mimetype": "text/x-python",
   "name": "python",
   "nbconvert_exporter": "python",
   "pygments_lexer": "ipython2",
   "version": "2.7.6"
  }
 },
 "nbformat": 4,
 "nbformat_minor": 0
}
