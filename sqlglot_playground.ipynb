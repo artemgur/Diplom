{
 "cells": [
  {
   "cell_type": "code",
   "execution_count": 20,
   "outputs": [
    {
     "name": "stdout",
     "output_type": "stream",
     "text": [
      "The autoreload extension is already loaded. To reload it, use:\n",
      "  %reload_ext autoreload\n"
     ]
    }
   ],
   "source": [
    "%load_ext autoreload\n",
    "%autoreload 2"
   ],
   "metadata": {
    "collapsed": false
   }
  },
  {
   "cell_type": "code",
   "execution_count": 21,
   "metadata": {
    "collapsed": true
   },
   "outputs": [],
   "source": [
    "import sqlglot"
   ]
  },
  {
   "cell_type": "code",
   "execution_count": 22,
   "outputs": [],
   "source": [
    "sql = 'SELECT a, avg(b) FROM mytable WHERE a > 10 AND a < 15 OR a > 1000 GROUP BY a'"
   ],
   "metadata": {
    "collapsed": false
   }
  },
  {
   "cell_type": "code",
   "execution_count": 23,
   "outputs": [
    {
     "data": {
      "text/plain": "(SELECT expressions: \n  (COLUMN this: \n    (IDENTIFIER this: a, quoted: False)), \n  (AVG this: \n    (COLUMN this: \n      (IDENTIFIER this: b, quoted: False))), from: \n  (FROM expressions: \n    (TABLE this: \n      (IDENTIFIER this: mytable, quoted: False))), where: \n  (WHERE this: \n    (OR this: \n      (AND this: \n        (GT this: \n          (COLUMN this: \n            (IDENTIFIER this: a, quoted: False)), expression: \n          (LITERAL this: 10, is_string: False)), expression: \n        (LT this: \n          (COLUMN this: \n            (IDENTIFIER this: a, quoted: False)), expression: \n          (LITERAL this: 15, is_string: False))), expression: \n      (GT this: \n        (COLUMN this: \n          (IDENTIFIER this: a, quoted: False)), expression: \n        (LITERAL this: 1000, is_string: False)))), group: \n  (GROUP expressions: \n    (COLUMN this: \n      (IDENTIFIER this: a, quoted: False))))"
     },
     "execution_count": 23,
     "metadata": {},
     "output_type": "execute_result"
    }
   ],
   "source": [
    "parsed = sqlglot.parse(sql, 'postgres')[0]  # sqlglot.parse(sql) returns list, every element is sql statement if I understand correctly\n",
    "parsed"
   ],
   "metadata": {
    "collapsed": false
   }
  },
  {
   "cell_type": "code",
   "execution_count": 24,
   "outputs": [
    {
     "data": {
      "text/plain": "sqlglot.expressions.Select"
     },
     "execution_count": 24,
     "metadata": {},
     "output_type": "execute_result"
    }
   ],
   "source": [
    "type(parsed)"
   ],
   "metadata": {
    "collapsed": false
   }
  },
  {
   "cell_type": "code",
   "execution_count": 25,
   "outputs": [
    {
     "name": "stdout",
     "output_type": "stream",
     "text": [
      "<class 'sqlglot.expressions.Column'>\n",
      "<class 'sqlglot.expressions.Avg'>\n"
     ]
    }
   ],
   "source": [
    "for x in parsed.expressions:\n",
    "    print(type(x))"
   ],
   "metadata": {
    "collapsed": false
   }
  },
  {
   "cell_type": "code",
   "execution_count": 26,
   "outputs": [
    {
     "data": {
      "text/plain": "(WHERE this: \n  (OR this: \n    (AND this: \n      (GT this: \n        (COLUMN this: \n          (IDENTIFIER this: a, quoted: False)), expression: \n        (LITERAL this: 10, is_string: False)), expression: \n      (LT this: \n        (COLUMN this: \n          (IDENTIFIER this: a, quoted: False)), expression: \n        (LITERAL this: 15, is_string: False))), expression: \n    (GT this: \n      (COLUMN this: \n        (IDENTIFIER this: a, quoted: False)), expression: \n      (LITERAL this: 1000, is_string: False))))"
     },
     "execution_count": 26,
     "metadata": {},
     "output_type": "execute_result"
    }
   ],
   "source": [
    "from sqlglot.expressions import Where\n",
    "\n",
    "where = parsed.find(Where)\n",
    "where"
   ],
   "metadata": {
    "collapsed": false
   }
  },
  {
   "cell_type": "code",
   "execution_count": 27,
   "outputs": [
    {
     "data": {
      "text/plain": "(WHERE this: \n  (OR this: \n    (AND this: \n      (GT this: \n        (COLUMN this: \n          (IDENTIFIER this: a, quoted: False)), expression: \n        (LITERAL this: 10, is_string: False)), expression: \n      (LT this: \n        (COLUMN this: \n          (IDENTIFIER this: a, quoted: False)), expression: \n        (LITERAL this: 15, is_string: False))), expression: \n    (GT this: \n      (COLUMN this: \n        (IDENTIFIER this: a, quoted: False)), expression: \n      (LITERAL this: 1000, is_string: False))))"
     },
     "execution_count": 27,
     "metadata": {},
     "output_type": "execute_result"
    }
   ],
   "source": [
    "where"
   ],
   "metadata": {
    "collapsed": false
   }
  },
  {
   "cell_type": "code",
   "execution_count": 28,
   "outputs": [
    {
     "data": {
      "text/plain": "(OR this: \n  (AND this: \n    (GT this: \n      (COLUMN this: \n        (IDENTIFIER this: a, quoted: False)), expression: \n      (LITERAL this: 10, is_string: False)), expression: \n    (LT this: \n      (COLUMN this: \n        (IDENTIFIER this: a, quoted: False)), expression: \n      (LITERAL this: 15, is_string: False))), expression: \n  (GT this: \n    (COLUMN this: \n      (IDENTIFIER this: a, quoted: False)), expression: \n    (LITERAL this: 1000, is_string: False)))"
     },
     "execution_count": 28,
     "metadata": {},
     "output_type": "execute_result"
    }
   ],
   "source": [
    "and_ = where.this\n",
    "and_"
   ],
   "metadata": {
    "collapsed": false
   }
  },
  {
   "cell_type": "code",
   "execution_count": 29,
   "outputs": [
    {
     "data": {
      "text/plain": "(OR this: \n  (AND this: \n    (GT this: \n      (COLUMN this: \n        (IDENTIFIER this: a, quoted: False)), expression: \n      (LITERAL this: 10, is_string: False)), expression: \n    (LT this: \n      (COLUMN this: \n        (IDENTIFIER this: a, quoted: False)), expression: \n      (LITERAL this: 15, is_string: False))), expression: \n  (GT this: \n    (COLUMN this: \n      (IDENTIFIER this: a, quoted: False)), expression: \n    (LITERAL this: 1000, is_string: False)))"
     },
     "execution_count": 29,
     "metadata": {},
     "output_type": "execute_result"
    }
   ],
   "source": [
    "and_"
   ],
   "metadata": {
    "collapsed": false
   }
  },
  {
   "cell_type": "code",
   "execution_count": 30,
   "outputs": [
    {
     "name": "stdout",
     "output_type": "stream",
     "text": [
      "hint None\n",
      "distinct None\n",
      "expressions [(COLUMN this: \n",
      "  (IDENTIFIER this: a, quoted: False)), (AVG this: \n",
      "  (COLUMN this: \n",
      "    (IDENTIFIER this: b, quoted: False)))]\n",
      "limit None\n",
      "from FROM mytable\n",
      "where WHERE a > 10 AND a < 15 OR a > 1000\n",
      "group GROUP BY a\n"
     ]
    }
   ],
   "source": [
    "for k, v in parsed.args.items():\n",
    "    print(k, v)"
   ],
   "metadata": {
    "collapsed": false
   }
  },
  {
   "cell_type": "code",
   "execution_count": 31,
   "outputs": [
    {
     "name": "stdout",
     "output_type": "stream",
     "text": [
      "expressions a\n",
      "expressions AVG(b)\n",
      "from FROM mytable\n",
      "where WHERE a > 10 AND a < 15 OR a > 1000\n",
      "group GROUP BY a\n"
     ]
    }
   ],
   "source": [
    "from sqlglot import Expression\n",
    "from sqlglot.helper import ensure_collection\n",
    "\n",
    "for k, v in parsed.args.items():\n",
    "    for node in ensure_collection(v):\n",
    "        if isinstance(node, Expression):\n",
    "            print(k, node)"
   ],
   "metadata": {
    "collapsed": false
   }
  },
  {
   "cell_type": "code",
   "execution_count": 32,
   "outputs": [
    {
     "name": "stdout",
     "output_type": "stream",
     "text": [
      "<class 'sqlglot.expressions.Or'>\n",
      "this a > 10 AND a < 15\n",
      "expression a > 1000\n"
     ]
    }
   ],
   "source": [
    "from sqlglot import Expression\n",
    "from sqlglot.helper import ensure_collection\n",
    "\n",
    "start_node = where.this\n",
    "print(type(start_node))\n",
    "for k, v in start_node.args.items():\n",
    "    for node in ensure_collection(v):\n",
    "        if isinstance(node, Expression):\n",
    "            print(k, node)"
   ],
   "metadata": {
    "collapsed": false
   }
  },
  {
   "cell_type": "code",
   "execution_count": 33,
   "outputs": [
    {
     "name": "stdout",
     "output_type": "stream",
     "text": [
      "a > 10 AND a < 15 OR a > 1000\n",
      "a > 10 AND a < 15\n",
      "a > 10\n",
      "a\n",
      "a\n",
      "10\n",
      "a < 15\n",
      "a\n",
      "a\n",
      "15\n",
      "a > 1000\n",
      "a\n",
      "a\n",
      "1000\n"
     ]
    }
   ],
   "source": [
    "#node: Expression\n",
    "for node in where.this.dfs():\n",
    "    print(node[0])\n"
   ],
   "metadata": {
    "collapsed": false
   }
  },
  {
   "cell_type": "code",
   "execution_count": 34,
   "outputs": [
    {
     "data": {
      "text/plain": "(WHERE this: \n  (OR this: \n    (AND this: \n      (GT this: \n        (COLUMN this: \n          (IDENTIFIER this: a, quoted: False)), expression: \n        (LITERAL this: 10, is_string: False)), expression: \n      (LT this: \n        (COLUMN this: \n          (IDENTIFIER this: a, quoted: False)), expression: \n        (LITERAL this: 15, is_string: False))), expression: \n    (GT this: \n      (COLUMN this: \n        (IDENTIFIER this: a, quoted: False)), expression: \n      (LITERAL this: 1000, is_string: False))))"
     },
     "execution_count": 34,
     "metadata": {},
     "output_type": "execute_result"
    }
   ],
   "source": [
    "where"
   ],
   "metadata": {
    "collapsed": false
   }
  },
  {
   "cell_type": "code",
   "execution_count": 40,
   "outputs": [
    {
     "name": "stdout",
     "output_type": "stream",
     "text": [
      "\n",
      "def _parse_where_simple_inner(a):\n",
      "    return a > 10 and a < 15 or a > 1000\n",
      "\n"
     ]
    },
    {
     "data": {
      "text/plain": "<function where_parser._parse_where_simple_inner(a)>"
     },
     "execution_count": 40,
     "metadata": {},
     "output_type": "execute_result"
    }
   ],
   "source": [
    "import where_parser\n",
    "\n",
    "where_func = where_parser.parse_where_simple(where.this)\n",
    "where_func"
   ],
   "metadata": {
    "collapsed": false
   }
  },
  {
   "cell_type": "code",
   "execution_count": 44,
   "outputs": [
    {
     "data": {
      "text/plain": "True"
     },
     "execution_count": 44,
     "metadata": {},
     "output_type": "execute_result"
    }
   ],
   "source": [
    "where_func(1210)"
   ],
   "metadata": {
    "collapsed": false
   }
  },
  {
   "cell_type": "code",
   "execution_count": null,
   "outputs": [],
   "source": [],
   "metadata": {
    "collapsed": false
   }
  }
 ],
 "metadata": {
  "kernelspec": {
   "display_name": "Python 3",
   "language": "python",
   "name": "python3"
  },
  "language_info": {
   "codemirror_mode": {
    "name": "ipython",
    "version": 2
   },
   "file_extension": ".py",
   "mimetype": "text/x-python",
   "name": "python",
   "nbconvert_exporter": "python",
   "pygments_lexer": "ipython2",
   "version": "2.7.6"
  }
 },
 "nbformat": 4,
 "nbformat_minor": 0
}
